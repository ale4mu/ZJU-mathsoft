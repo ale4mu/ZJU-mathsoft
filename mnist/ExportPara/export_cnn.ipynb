{
 "cells": [
  {
   "cell_type": "markdown",
   "id": "d109feb9",
   "metadata": {},
   "source": [
    "首先训练CNN模型"
   ]
  },
  {
   "cell_type": "code",
   "execution_count": 10,
   "id": "a048f973",
   "metadata": {},
   "outputs": [
    {
     "name": "stdout",
     "output_type": "stream",
     "text": [
      "Epoch 1 完成\n",
      "Epoch 2 完成\n",
      "Epoch 3 完成\n",
      "Epoch 4 完成\n",
      "Epoch 5 完成\n",
      "Epoch 6 完成\n",
      "Epoch 7 完成\n",
      "Epoch 8 完成\n",
      "Epoch 9 完成\n",
      "Epoch 10 完成\n",
      "\n",
      "测试准确率：0.9890\n"
     ]
    }
   ],
   "source": [
    "import torch\n",
    "import torch.nn as nn\n",
    "import torch.nn.functional as F\n",
    "import torch.optim as optim\n",
    "from torchvision import datasets, transforms\n",
    "import matplotlib.pyplot as plt\n",
    "from torch.nn.utils import prune\n",
    "\n",
    "# 定义 CNN 模型\n",
    "class CNN(nn.Module):\n",
    "    def __init__(self):\n",
    "        super(CNN, self).__init__()\n",
    "        self.conv1 = nn.Conv2d(1, 8, kernel_size=3, padding=1)  # -> 8 x 28 x 28\n",
    "        self.conv2 = nn.Conv2d(8, 16, kernel_size=3, padding=1) # -> 16 x 28 x 28\n",
    "        self.pool = nn.MaxPool2d(2, 2)                           # 每次池化尺寸减半\n",
    "        self.dropout = nn.Dropout(0.25)\n",
    "        self.fc1 = nn.Linear(16 * 7 * 7, 32)\n",
    "        self.fc2 = nn.Linear(32, 10)\n",
    "\n",
    "    def forward(self, x):\n",
    "        x = F.relu(self.conv1(x))              # -> (B, 8, 28, 28)\n",
    "        x = self.pool(F.relu(self.conv2(x)))   # -> (B, 16, 14, 14)\n",
    "        x = self.pool(x)                       # -> (B, 16, 7, 7)\n",
    "        x = self.dropout(x)\n",
    "        x = x.view(x.size(0), -1)              # -> (B, 784)\n",
    "        x = F.relu(self.fc1(x))                # -> (B, 32)\n",
    "        x = self.fc2(x)                        # -> (B, 10)                 \n",
    "        return x\n",
    "\n",
    "# 权重剪枝（移除20%的权重）\n",
    "def prune_model(model, amount=0.2):\n",
    "    for name, module in model.named_modules():\n",
    "        if isinstance(module, nn.Conv2d):\n",
    "            prune.l1_unstructured(module, name='weight', amount=amount)\n",
    "            prune.remove(module, 'weight')\n",
    "    return model\n",
    "\n",
    "\n",
    "# 数据预处理\n",
    "transform = transforms.Compose([\n",
    "    transforms.ToTensor(),\n",
    "    transforms.Normalize((0.1307,), (0.3081,))  # 标准化\n",
    "])\n",
    "\n",
    "# 加载 MNIST 数据集\n",
    "train_dataset = datasets.MNIST('./data', train=True, download=True, transform=transform)\n",
    "test_dataset = datasets.MNIST('./data', train=False, transform=transform)\n",
    "\n",
    "train_loader = torch.utils.data.DataLoader(train_dataset, batch_size=32, shuffle=True)\n",
    "test_loader = torch.utils.data.DataLoader(test_dataset, batch_size=1000, shuffle=False)\n",
    "\n",
    "# 设置设备\n",
    "# device = torch.device(\"cuda\" if torch.cuda.is_available() else \"cpu\")\n",
    "device = torch.device('cpu')\n",
    "model = CNN().to(device)\n",
    "model = prune_model(model, amount=0.2)  # 剪枝20%的权重\n",
    "\n",
    "# 设置优化器和损失函数\n",
    "optimizer = optim.AdamW(model.parameters(), lr=0.0005,weight_decay=1e-4)\n",
    "criterion = nn.CrossEntropyLoss()\n",
    "\n",
    "# 训练模型\n",
    "for epoch in range(1, 11):\n",
    "    model.train()\n",
    "    for batch_idx, (data, target) in enumerate(train_loader):\n",
    "        data, target = data.to(device), target.to(device)\n",
    "        optimizer.zero_grad()\n",
    "        output = model(data)\n",
    "        loss = criterion(output, target)\n",
    "        loss.backward()\n",
    "        optimizer.step()\n",
    "    print(f\"Epoch {epoch} 完成\")\n",
    "\n",
    "# 测试模型\n",
    "model.eval()\n",
    "correct = 0\n",
    "with torch.no_grad():\n",
    "    for data, target in test_loader:\n",
    "        data, target = data.to(device), target.to(device)\n",
    "        output = model(data)\n",
    "        pred = output.argmax(dim=1)\n",
    "        correct += pred.eq(target).sum().item()\n",
    "\n",
    "\n",
    "print(f\"\\n测试准确率：{correct / len(test_loader.dataset):.4f}\")\n"
   ]
  },
  {
   "cell_type": "markdown",
   "id": "a2d26d96",
   "metadata": {},
   "source": [
    "保存参数，转成numpy数组，并以二进制文件的形式存储"
   ]
  },
  {
   "cell_type": "code",
   "execution_count": 11,
   "id": "cbc7f593",
   "metadata": {},
   "outputs": [],
   "source": [
    "import numpy as np\n",
    "\n",
    "state_dict = model.state_dict()\n",
    "w_conv1 = state_dict['conv1.weight']\n",
    "b_conv1 = state_dict['conv1.bias']\n",
    "w_conv2 = state_dict['conv2.weight']\n",
    "b_conv2 = state_dict['conv2.bias']\n",
    "w_fc1 = state_dict['fc1.weight']\n",
    "b_fc1 = state_dict['fc1.bias']\n",
    "w_fc2 = state_dict['fc2.weight']\n",
    "b_fc2 = state_dict['fc2.bias']\n",
    "with open(\"parameters_cnn.bin\", \"wb\") as out_bin:\n",
    "    w_conv1.cpu().numpy().astype(np.float32).tofile(out_bin)\n",
    "    b_conv1.cpu().numpy().astype(np.float32).tofile(out_bin)\n",
    "    w_conv2.cpu().numpy().astype(np.float32).tofile(out_bin)\n",
    "    b_conv2.cpu().numpy().astype(np.float32).tofile(out_bin)\n",
    "    w_fc1.cpu().numpy().T.astype(np.float32).tofile(out_bin)\n",
    "    b_fc1.cpu().numpy().astype(np.float32).tofile(out_bin)\n",
    "    w_fc2.cpu().numpy().T.astype(np.float32).tofile(out_bin)\n",
    "    b_fc2.cpu().numpy().astype(np.float32).tofile(out_bin)\n",
    "\n"
   ]
  },
  {
   "cell_type": "markdown",
   "id": "dea16466",
   "metadata": {},
   "source": [
    "打印各个参数的维度"
   ]
  },
  {
   "cell_type": "code",
   "execution_count": 12,
   "id": "3dedf44e",
   "metadata": {},
   "outputs": [
    {
     "name": "stdout",
     "output_type": "stream",
     "text": [
      "conv1.bias: torch.Size([8])\n",
      "conv1.weight: torch.Size([8, 1, 3, 3])\n",
      "conv2.bias: torch.Size([16])\n",
      "conv2.weight: torch.Size([16, 8, 3, 3])\n",
      "fc1.weight: torch.Size([32, 784])\n",
      "fc1.bias: torch.Size([32])\n",
      "fc2.weight: torch.Size([10, 32])\n",
      "fc2.bias: torch.Size([10])\n"
     ]
    }
   ],
   "source": [
    "for key, value in model.state_dict().items():\n",
    "    print(f\"{key}: {value.shape}\")"
   ]
  }
 ],
 "metadata": {
  "kernelspec": {
   "display_name": "Python 3 (ipykernel)",
   "language": "python",
   "name": "python3"
  },
  "language_info": {
   "codemirror_mode": {
    "name": "ipython",
    "version": 3
   },
   "file_extension": ".py",
   "mimetype": "text/x-python",
   "name": "python",
   "nbconvert_exporter": "python",
   "pygments_lexer": "ipython3",
   "version": "3.10.16"
  }
 },
 "nbformat": 4,
 "nbformat_minor": 5
}
